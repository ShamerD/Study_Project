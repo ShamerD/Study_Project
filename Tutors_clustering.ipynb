{
  "nbformat": 4,
  "nbformat_minor": 0,
  "metadata": {
    "colab": {
      "name": "Tutors_clustering.ipynb",
      "provenance": []
    },
    "kernelspec": {
      "name": "python3",
      "display_name": "Python 3"
    }
  },
  "cells": [
    {
      "cell_type": "code",
      "metadata": {
        "id": "D9k1Gqdio10n",
        "colab_type": "code",
        "colab": {}
      },
      "source": [
        "import pandas as pd\n",
        "from The_PAM_Clustering.PAM import PAM"
      ],
      "execution_count": 74,
      "outputs": []
    },
    {
      "cell_type": "markdown",
      "metadata": {
        "id": "kPJ9-q3_rJZY",
        "colab_type": "text"
      },
      "source": [
        "Загрузим датасет (в нем несколько листов, их надо объединить)"
      ]
    },
    {
      "cell_type": "code",
      "metadata": {
        "id": "MW1LERpbqvpG",
        "colab_type": "code",
        "colab": {}
      },
      "source": [
        "df = pd.concat(pd.read_excel('./data/tutors_full.xlsx', sheet_name=None), ignore_index=True)"
      ],
      "execution_count": 75,
      "outputs": []
    },
    {
      "cell_type": "code",
      "metadata": {
        "id": "RoVQT8XdrEc6",
        "colab_type": "code",
        "colab": {
          "base_uri": "https://localhost:8080/",
          "height": 284
        },
        "outputId": "5a15f115-f574-4c9c-8432-496f99c0f67a"
      },
      "source": [
        "df.describe()"
      ],
      "execution_count": 76,
      "outputs": [
        {
          "output_type": "execute_result",
          "data": {
            "text/html": [
              "<div>\n",
              "<style scoped>\n",
              "    .dataframe tbody tr th:only-of-type {\n",
              "        vertical-align: middle;\n",
              "    }\n",
              "\n",
              "    .dataframe tbody tr th {\n",
              "        vertical-align: top;\n",
              "    }\n",
              "\n",
              "    .dataframe thead th {\n",
              "        text-align: right;\n",
              "    }\n",
              "</style>\n",
              "<table border=\"1\" class=\"dataframe\">\n",
              "  <thead>\n",
              "    <tr style=\"text-align: right;\">\n",
              "      <th></th>\n",
              "      <th>Column1</th>\n",
              "      <th>id</th>\n",
              "    </tr>\n",
              "  </thead>\n",
              "  <tbody>\n",
              "    <tr>\n",
              "      <th>count</th>\n",
              "      <td>288724.00000</td>\n",
              "      <td>2.887230e+05</td>\n",
              "    </tr>\n",
              "    <tr>\n",
              "      <th>mean</th>\n",
              "      <td>58844.96080</td>\n",
              "      <td>2.840819e+06</td>\n",
              "    </tr>\n",
              "    <tr>\n",
              "      <th>std</th>\n",
              "      <td>48382.63658</td>\n",
              "      <td>1.373217e+06</td>\n",
              "    </tr>\n",
              "    <tr>\n",
              "      <th>min</th>\n",
              "      <td>0.00000</td>\n",
              "      <td>5.100000e+01</td>\n",
              "    </tr>\n",
              "    <tr>\n",
              "      <th>25%</th>\n",
              "      <td>19705.00000</td>\n",
              "      <td>1.229736e+06</td>\n",
              "    </tr>\n",
              "    <tr>\n",
              "      <th>50%</th>\n",
              "      <td>43765.50000</td>\n",
              "      <td>3.884913e+06</td>\n",
              "    </tr>\n",
              "    <tr>\n",
              "      <th>75%</th>\n",
              "      <td>95438.25000</td>\n",
              "      <td>3.914147e+06</td>\n",
              "    </tr>\n",
              "    <tr>\n",
              "      <th>max</th>\n",
              "      <td>167619.00000</td>\n",
              "      <td>3.915058e+06</td>\n",
              "    </tr>\n",
              "  </tbody>\n",
              "</table>\n",
              "</div>"
            ],
            "text/plain": [
              "            Column1            id\n",
              "count  288724.00000  2.887230e+05\n",
              "mean    58844.96080  2.840819e+06\n",
              "std     48382.63658  1.373217e+06\n",
              "min         0.00000  5.100000e+01\n",
              "25%     19705.00000  1.229736e+06\n",
              "50%     43765.50000  3.884913e+06\n",
              "75%     95438.25000  3.914147e+06\n",
              "max    167619.00000  3.915058e+06"
            ]
          },
          "metadata": {
            "tags": []
          },
          "execution_count": 76
        }
      ]
    },
    {
      "cell_type": "code",
      "metadata": {
        "id": "6c88fBaorZO6",
        "colab_type": "code",
        "colab": {
          "base_uri": "https://localhost:8080/",
          "height": 330
        },
        "outputId": "07321d0b-1de3-455b-dc3a-be94fc59569f"
      },
      "source": [
        "df.head()"
      ],
      "execution_count": 77,
      "outputs": [
        {
          "output_type": "execute_result",
          "data": {
            "text/html": [
              "<div>\n",
              "<style scoped>\n",
              "    .dataframe tbody tr th:only-of-type {\n",
              "        vertical-align: middle;\n",
              "    }\n",
              "\n",
              "    .dataframe tbody tr th {\n",
              "        vertical-align: top;\n",
              "    }\n",
              "\n",
              "    .dataframe thead th {\n",
              "        text-align: right;\n",
              "    }\n",
              "</style>\n",
              "<table border=\"1\" class=\"dataframe\">\n",
              "  <thead>\n",
              "    <tr style=\"text-align: right;\">\n",
              "      <th></th>\n",
              "      <th>Column1</th>\n",
              "      <th>author</th>\n",
              "      <th>date</th>\n",
              "      <th>discipline</th>\n",
              "      <th>id</th>\n",
              "      <th>mark</th>\n",
              "      <th>reply</th>\n",
              "      <th>text</th>\n",
              "      <th>tutorlink</th>\n",
              "      <th>tutorname</th>\n",
              "    </tr>\n",
              "  </thead>\n",
              "  <tbody>\n",
              "    <tr>\n",
              "      <th>0</th>\n",
              "      <td>0.0</td>\n",
              "      <td>Юлия</td>\n",
              "      <td>2019-07-03</td>\n",
              "      <td>биология</td>\n",
              "      <td>3913905.0</td>\n",
              "      <td>лучше не бывает!</td>\n",
              "      <td>NaN</td>\n",
              "      <td>Очень грамотный и приятный преподаватель ) оче...</td>\n",
              "      <td>https://repetitors.info/repetitor/?p=SuhorukovaNA</td>\n",
              "      <td>Сухорукова Наталия Альбертовна</td>\n",
              "    </tr>\n",
              "    <tr>\n",
              "      <th>1</th>\n",
              "      <td>1.0</td>\n",
              "      <td>Ксения</td>\n",
              "      <td>2019-07-03</td>\n",
              "      <td>не указана</td>\n",
              "      <td>3913841.0</td>\n",
              "      <td>лучше не бывает!</td>\n",
              "      <td>NaN</td>\n",
              "      <td>Прислушивается к потребностям, очень хорошо об...</td>\n",
              "      <td>https://repetitors.info/repetitor/?p=RebrovRU</td>\n",
              "      <td>Ребров Родион Юрьевич</td>\n",
              "    </tr>\n",
              "    <tr>\n",
              "      <th>2</th>\n",
              "      <td>2.0</td>\n",
              "      <td>Виктория</td>\n",
              "      <td>2019-07-03</td>\n",
              "      <td>физика</td>\n",
              "      <td>3913830.0</td>\n",
              "      <td>лучше не бывает!</td>\n",
              "      <td>NaN</td>\n",
              "      <td>Сын писал пробный ЕГЭ на 70 баллов. Стал заним...</td>\n",
              "      <td>https://repetitors.info/repetitor/?p=SadovnikovSV</td>\n",
              "      <td>Садовников Сергей Викторович</td>\n",
              "    </tr>\n",
              "    <tr>\n",
              "      <th>3</th>\n",
              "      <td>3.0</td>\n",
              "      <td>Жанна</td>\n",
              "      <td>2019-07-03</td>\n",
              "      <td>английский язык</td>\n",
              "      <td>3913781.0</td>\n",
              "      <td>лучше не бывает!</td>\n",
              "      <td>NaN</td>\n",
              "      <td>Лидия замечательный преподаватель, пунктуальны...</td>\n",
              "      <td>https://repetitors.info/repetitor/?p=ErshovaLV5</td>\n",
              "      <td>Ершова Лидия Владимировна</td>\n",
              "    </tr>\n",
              "    <tr>\n",
              "      <th>4</th>\n",
              "      <td>4.0</td>\n",
              "      <td>Елена</td>\n",
              "      <td>2019-07-03</td>\n",
              "      <td>русский язык</td>\n",
              "      <td>3913776.0</td>\n",
              "      <td>лучше не бывает!</td>\n",
              "      <td>NaN</td>\n",
              "      <td>Плюсы: Репетитор замечательный, легко нашла ко...</td>\n",
              "      <td>https://repetitors.info/repetitor/?p=NoskovaEI</td>\n",
              "      <td>Носкова Евгения Игоревна</td>\n",
              "    </tr>\n",
              "  </tbody>\n",
              "</table>\n",
              "</div>"
            ],
            "text/plain": [
              "   Column1  ...                       tutorname\n",
              "0      0.0  ...  Сухорукова Наталия Альбертовна\n",
              "1      1.0  ...           Ребров Родион Юрьевич\n",
              "2      2.0  ...    Садовников Сергей Викторович\n",
              "3      3.0  ...       Ершова Лидия Владимировна\n",
              "4      4.0  ...        Носкова Евгения Игоревна\n",
              "\n",
              "[5 rows x 10 columns]"
            ]
          },
          "metadata": {
            "tags": []
          },
          "execution_count": 77
        }
      ]
    },
    {
      "cell_type": "markdown",
      "metadata": {
        "id": "sfiQ6N0GrYny",
        "colab_type": "text"
      },
      "source": [
        "Видно, что в нем 288724 строки. Преобразуем данные, оставим только поля которые потом будем использовать для подсчета расстояния."
      ]
    },
    {
      "cell_type": "code",
      "metadata": {
        "id": "0mgEQn3qrH3o",
        "colab_type": "code",
        "colab": {
          "base_uri": "https://localhost:8080/",
          "height": 195
        },
        "outputId": "74a14644-9bc2-42fa-aa8f-e4b2505e0fca"
      },
      "source": [
        "df_dropped = df.drop(columns=['Column1', 'author', 'date', 'id', 'reply', 'text', 'tutorlink'])\n",
        "df_dropped.head()"
      ],
      "execution_count": 78,
      "outputs": [
        {
          "output_type": "execute_result",
          "data": {
            "text/html": [
              "<div>\n",
              "<style scoped>\n",
              "    .dataframe tbody tr th:only-of-type {\n",
              "        vertical-align: middle;\n",
              "    }\n",
              "\n",
              "    .dataframe tbody tr th {\n",
              "        vertical-align: top;\n",
              "    }\n",
              "\n",
              "    .dataframe thead th {\n",
              "        text-align: right;\n",
              "    }\n",
              "</style>\n",
              "<table border=\"1\" class=\"dataframe\">\n",
              "  <thead>\n",
              "    <tr style=\"text-align: right;\">\n",
              "      <th></th>\n",
              "      <th>discipline</th>\n",
              "      <th>mark</th>\n",
              "      <th>tutorname</th>\n",
              "    </tr>\n",
              "  </thead>\n",
              "  <tbody>\n",
              "    <tr>\n",
              "      <th>0</th>\n",
              "      <td>биология</td>\n",
              "      <td>лучше не бывает!</td>\n",
              "      <td>Сухорукова Наталия Альбертовна</td>\n",
              "    </tr>\n",
              "    <tr>\n",
              "      <th>1</th>\n",
              "      <td>не указана</td>\n",
              "      <td>лучше не бывает!</td>\n",
              "      <td>Ребров Родион Юрьевич</td>\n",
              "    </tr>\n",
              "    <tr>\n",
              "      <th>2</th>\n",
              "      <td>физика</td>\n",
              "      <td>лучше не бывает!</td>\n",
              "      <td>Садовников Сергей Викторович</td>\n",
              "    </tr>\n",
              "    <tr>\n",
              "      <th>3</th>\n",
              "      <td>английский язык</td>\n",
              "      <td>лучше не бывает!</td>\n",
              "      <td>Ершова Лидия Владимировна</td>\n",
              "    </tr>\n",
              "    <tr>\n",
              "      <th>4</th>\n",
              "      <td>русский язык</td>\n",
              "      <td>лучше не бывает!</td>\n",
              "      <td>Носкова Евгения Игоревна</td>\n",
              "    </tr>\n",
              "  </tbody>\n",
              "</table>\n",
              "</div>"
            ],
            "text/plain": [
              "        discipline              mark                       tutorname\n",
              "0         биология  лучше не бывает!  Сухорукова Наталия Альбертовна\n",
              "1       не указана  лучше не бывает!           Ребров Родион Юрьевич\n",
              "2           физика  лучше не бывает!    Садовников Сергей Викторович\n",
              "3  английский язык  лучше не бывает!       Ершова Лидия Владимировна\n",
              "4     русский язык  лучше не бывает!        Носкова Евгения Игоревна"
            ]
          },
          "metadata": {
            "tags": []
          },
          "execution_count": 78
        }
      ]
    },
    {
      "cell_type": "code",
      "metadata": {
        "id": "2Lz1B5ResmNt",
        "colab_type": "code",
        "colab": {
          "base_uri": "https://localhost:8080/",
          "height": 166
        },
        "outputId": "69bcd9b7-c2c5-41ee-f138-4348a47d3065"
      },
      "source": [
        "df_dropped.describe()"
      ],
      "execution_count": 79,
      "outputs": [
        {
          "output_type": "execute_result",
          "data": {
            "text/html": [
              "<div>\n",
              "<style scoped>\n",
              "    .dataframe tbody tr th:only-of-type {\n",
              "        vertical-align: middle;\n",
              "    }\n",
              "\n",
              "    .dataframe tbody tr th {\n",
              "        vertical-align: top;\n",
              "    }\n",
              "\n",
              "    .dataframe thead th {\n",
              "        text-align: right;\n",
              "    }\n",
              "</style>\n",
              "<table border=\"1\" class=\"dataframe\">\n",
              "  <thead>\n",
              "    <tr style=\"text-align: right;\">\n",
              "      <th></th>\n",
              "      <th>discipline</th>\n",
              "      <th>mark</th>\n",
              "      <th>tutorname</th>\n",
              "    </tr>\n",
              "  </thead>\n",
              "  <tbody>\n",
              "    <tr>\n",
              "      <th>count</th>\n",
              "      <td>288724</td>\n",
              "      <td>288723</td>\n",
              "      <td>288723</td>\n",
              "    </tr>\n",
              "    <tr>\n",
              "      <th>unique</th>\n",
              "      <td>77</td>\n",
              "      <td>10</td>\n",
              "      <td>40408</td>\n",
              "    </tr>\n",
              "    <tr>\n",
              "      <th>top</th>\n",
              "      <td>математика</td>\n",
              "      <td>ужасно</td>\n",
              "      <td>Земченко Флорина Викторовна</td>\n",
              "    </tr>\n",
              "    <tr>\n",
              "      <th>freq</th>\n",
              "      <td>70333</td>\n",
              "      <td>167620</td>\n",
              "      <td>8280</td>\n",
              "    </tr>\n",
              "  </tbody>\n",
              "</table>\n",
              "</div>"
            ],
            "text/plain": [
              "        discipline    mark                    tutorname\n",
              "count       288724  288723                       288723\n",
              "unique          77      10                        40408\n",
              "top     математика  ужасно  Земченко Флорина Викторовна\n",
              "freq         70333  167620                         8280"
            ]
          },
          "metadata": {
            "tags": []
          },
          "execution_count": 79
        }
      ]
    },
    {
      "cell_type": "markdown",
      "metadata": {
        "id": "B2-LBUeHvmpC",
        "colab_type": "text"
      },
      "source": [
        "Поскольку мы кластеризуем репетиторов нам необходимо оставить только уникальных людей. Также конвертируем оценки в численное представление."
      ]
    },
    {
      "cell_type": "code",
      "metadata": {
        "id": "4K-fw5yVwpc9",
        "colab_type": "code",
        "colab": {
          "base_uri": "https://localhost:8080/",
          "height": 195
        },
        "outputId": "2eaa9426-e531-4ca9-96ae-06a06c7c9af2"
      },
      "source": [
        "mark2num = {\n",
        "    'лучше не бывает!': 10,\n",
        "    'отлично': 9,\n",
        "    'почти отлично': 8,\n",
        "    'вполне хорошо': 7,\n",
        "    'хорошо': 6,\n",
        "    'почти хорошо': 5,\n",
        "    'более-менее': 4,\n",
        "    'так себе...': 3,\n",
        "    'плохо': 2,\n",
        "    'ужасно': 1\n",
        "}\n",
        "df_dropped.mark = df_dropped.mark.map(mark2num)\n",
        "df_dropped.head()"
      ],
      "execution_count": 80,
      "outputs": [
        {
          "output_type": "execute_result",
          "data": {
            "text/html": [
              "<div>\n",
              "<style scoped>\n",
              "    .dataframe tbody tr th:only-of-type {\n",
              "        vertical-align: middle;\n",
              "    }\n",
              "\n",
              "    .dataframe tbody tr th {\n",
              "        vertical-align: top;\n",
              "    }\n",
              "\n",
              "    .dataframe thead th {\n",
              "        text-align: right;\n",
              "    }\n",
              "</style>\n",
              "<table border=\"1\" class=\"dataframe\">\n",
              "  <thead>\n",
              "    <tr style=\"text-align: right;\">\n",
              "      <th></th>\n",
              "      <th>discipline</th>\n",
              "      <th>mark</th>\n",
              "      <th>tutorname</th>\n",
              "    </tr>\n",
              "  </thead>\n",
              "  <tbody>\n",
              "    <tr>\n",
              "      <th>0</th>\n",
              "      <td>биология</td>\n",
              "      <td>10.0</td>\n",
              "      <td>Сухорукова Наталия Альбертовна</td>\n",
              "    </tr>\n",
              "    <tr>\n",
              "      <th>1</th>\n",
              "      <td>не указана</td>\n",
              "      <td>10.0</td>\n",
              "      <td>Ребров Родион Юрьевич</td>\n",
              "    </tr>\n",
              "    <tr>\n",
              "      <th>2</th>\n",
              "      <td>физика</td>\n",
              "      <td>10.0</td>\n",
              "      <td>Садовников Сергей Викторович</td>\n",
              "    </tr>\n",
              "    <tr>\n",
              "      <th>3</th>\n",
              "      <td>английский язык</td>\n",
              "      <td>10.0</td>\n",
              "      <td>Ершова Лидия Владимировна</td>\n",
              "    </tr>\n",
              "    <tr>\n",
              "      <th>4</th>\n",
              "      <td>русский язык</td>\n",
              "      <td>10.0</td>\n",
              "      <td>Носкова Евгения Игоревна</td>\n",
              "    </tr>\n",
              "  </tbody>\n",
              "</table>\n",
              "</div>"
            ],
            "text/plain": [
              "        discipline  mark                       tutorname\n",
              "0         биология  10.0  Сухорукова Наталия Альбертовна\n",
              "1       не указана  10.0           Ребров Родион Юрьевич\n",
              "2           физика  10.0    Садовников Сергей Викторович\n",
              "3  английский язык  10.0       Ершова Лидия Владимировна\n",
              "4     русский язык  10.0        Носкова Евгения Игоревна"
            ]
          },
          "metadata": {
            "tags": []
          },
          "execution_count": 80
        }
      ]
    },
    {
      "cell_type": "markdown",
      "metadata": {
        "id": "KvJsI-rp1i2b",
        "colab_type": "text"
      },
      "source": [
        "Сформируем таблицу с уникальными преподавателями. Будем использовать их среднюю оценку и наиболее частый предмет. Это предположение основано на том, что преподаватель, скорее всего будет преподавать один предмет (или хотя бы похожие), так что с этого мы ничего не потеряем"
      ]
    },
    {
      "cell_type": "code",
      "metadata": {
        "id": "6D_0q9JNv0uw",
        "colab_type": "code",
        "colab": {
          "base_uri": "https://localhost:8080/",
          "height": 431
        },
        "outputId": "45548432-9f50-4320-dc9a-d4dbc87bd955"
      },
      "source": [
        "df_mean = df_dropped.groupby(['tutorname']).mean()\n",
        "df_mean"
      ],
      "execution_count": 81,
      "outputs": [
        {
          "output_type": "execute_result",
          "data": {
            "text/html": [
              "<div>\n",
              "<style scoped>\n",
              "    .dataframe tbody tr th:only-of-type {\n",
              "        vertical-align: middle;\n",
              "    }\n",
              "\n",
              "    .dataframe tbody tr th {\n",
              "        vertical-align: top;\n",
              "    }\n",
              "\n",
              "    .dataframe thead th {\n",
              "        text-align: right;\n",
              "    }\n",
              "</style>\n",
              "<table border=\"1\" class=\"dataframe\">\n",
              "  <thead>\n",
              "    <tr style=\"text-align: right;\">\n",
              "      <th></th>\n",
              "      <th>mark</th>\n",
              "    </tr>\n",
              "    <tr>\n",
              "      <th>tutorname</th>\n",
              "      <th></th>\n",
              "    </tr>\n",
              "  </thead>\n",
              "  <tbody>\n",
              "    <tr>\n",
              "      <th>3ыбина Анна Сергеевна</th>\n",
              "      <td>10.0</td>\n",
              "    </tr>\n",
              "    <tr>\n",
              "      <th>Aaron Hanisch</th>\n",
              "      <td>9.0</td>\n",
              "    </tr>\n",
              "    <tr>\n",
              "      <th>Aaron James Dodd</th>\n",
              "      <td>9.0</td>\n",
              "    </tr>\n",
              "    <tr>\n",
              "      <th>Aaron Michael Burhoe</th>\n",
              "      <td>8.0</td>\n",
              "    </tr>\n",
              "    <tr>\n",
              "      <th>Abala David Ogero</th>\n",
              "      <td>9.0</td>\n",
              "    </tr>\n",
              "    <tr>\n",
              "      <th>...</th>\n",
              "      <td>...</td>\n",
              "    </tr>\n",
              "    <tr>\n",
              "      <th>Ященко Анастасия Олеговна</th>\n",
              "      <td>9.0</td>\n",
              "    </tr>\n",
              "    <tr>\n",
              "      <th>Ященко Николай Владиславович</th>\n",
              "      <td>10.0</td>\n",
              "    </tr>\n",
              "    <tr>\n",
              "      <th>Ященко Юлия Владимировна</th>\n",
              "      <td>9.0</td>\n",
              "    </tr>\n",
              "    <tr>\n",
              "      <th>Ященкова Инна Александровна</th>\n",
              "      <td>10.0</td>\n",
              "    </tr>\n",
              "    <tr>\n",
              "      <th>Ящук Дарья Михайловна</th>\n",
              "      <td>9.0</td>\n",
              "    </tr>\n",
              "  </tbody>\n",
              "</table>\n",
              "<p>40408 rows × 1 columns</p>\n",
              "</div>"
            ],
            "text/plain": [
              "                              mark\n",
              "tutorname                         \n",
              "3ыбина Анна Сергеевна         10.0\n",
              "Aaron Hanisch                  9.0\n",
              "Aaron James Dodd               9.0\n",
              "Aaron Michael Burhoe           8.0\n",
              "Abala David Ogero              9.0\n",
              "...                            ...\n",
              "Ященко Анастасия Олеговна      9.0\n",
              "Ященко Николай Владиславович  10.0\n",
              "Ященко Юлия Владимировна       9.0\n",
              "Ященкова Инна Александровна   10.0\n",
              "Ящук Дарья Михайловна          9.0\n",
              "\n",
              "[40408 rows x 1 columns]"
            ]
          },
          "metadata": {
            "tags": []
          },
          "execution_count": 81
        }
      ]
    },
    {
      "cell_type": "code",
      "metadata": {
        "id": "QcVYr4nhyXHU",
        "colab_type": "code",
        "colab": {
          "base_uri": "https://localhost:8080/",
          "height": 431
        },
        "outputId": "06ff51e3-bef8-41ed-a091-ed7607091408"
      },
      "source": [
        "df_common_disc = df_dropped.groupby(['tutorname'])['discipline'].agg(pd.Series.mode).to_frame()\n",
        "df_common_disc"
      ],
      "execution_count": 82,
      "outputs": [
        {
          "output_type": "execute_result",
          "data": {
            "text/html": [
              "<div>\n",
              "<style scoped>\n",
              "    .dataframe tbody tr th:only-of-type {\n",
              "        vertical-align: middle;\n",
              "    }\n",
              "\n",
              "    .dataframe tbody tr th {\n",
              "        vertical-align: top;\n",
              "    }\n",
              "\n",
              "    .dataframe thead th {\n",
              "        text-align: right;\n",
              "    }\n",
              "</style>\n",
              "<table border=\"1\" class=\"dataframe\">\n",
              "  <thead>\n",
              "    <tr style=\"text-align: right;\">\n",
              "      <th></th>\n",
              "      <th>discipline</th>\n",
              "    </tr>\n",
              "    <tr>\n",
              "      <th>tutorname</th>\n",
              "      <th></th>\n",
              "    </tr>\n",
              "  </thead>\n",
              "  <tbody>\n",
              "    <tr>\n",
              "      <th>3ыбина Анна Сергеевна</th>\n",
              "      <td>рисование</td>\n",
              "    </tr>\n",
              "    <tr>\n",
              "      <th>Aaron Hanisch</th>\n",
              "      <td>английский язык</td>\n",
              "    </tr>\n",
              "    <tr>\n",
              "      <th>Aaron James Dodd</th>\n",
              "      <td>английский язык</td>\n",
              "    </tr>\n",
              "    <tr>\n",
              "      <th>Aaron Michael Burhoe</th>\n",
              "      <td>английский язык</td>\n",
              "    </tr>\n",
              "    <tr>\n",
              "      <th>Abala David Ogero</th>\n",
              "      <td>английский язык</td>\n",
              "    </tr>\n",
              "    <tr>\n",
              "      <th>...</th>\n",
              "      <td>...</td>\n",
              "    </tr>\n",
              "    <tr>\n",
              "      <th>Ященко Анастасия Олеговна</th>\n",
              "      <td>английский язык</td>\n",
              "    </tr>\n",
              "    <tr>\n",
              "      <th>Ященко Николай Владиславович</th>\n",
              "      <td>химия</td>\n",
              "    </tr>\n",
              "    <tr>\n",
              "      <th>Ященко Юлия Владимировна</th>\n",
              "      <td>история</td>\n",
              "    </tr>\n",
              "    <tr>\n",
              "      <th>Ященкова Инна Александровна</th>\n",
              "      <td>музыка</td>\n",
              "    </tr>\n",
              "    <tr>\n",
              "      <th>Ящук Дарья Михайловна</th>\n",
              "      <td>фортепиано</td>\n",
              "    </tr>\n",
              "  </tbody>\n",
              "</table>\n",
              "<p>40408 rows × 1 columns</p>\n",
              "</div>"
            ],
            "text/plain": [
              "                                   discipline\n",
              "tutorname                                    \n",
              "3ыбина Анна Сергеевна               рисование\n",
              "Aaron Hanisch                 английский язык\n",
              "Aaron James Dodd              английский язык\n",
              "Aaron Michael Burhoe          английский язык\n",
              "Abala David Ogero             английский язык\n",
              "...                                       ...\n",
              "Ященко Анастасия Олеговна     английский язык\n",
              "Ященко Николай Владиславович            химия\n",
              "Ященко Юлия Владимировна              история\n",
              "Ященкова Инна Александровна            музыка\n",
              "Ящук Дарья Михайловна              фортепиано\n",
              "\n",
              "[40408 rows x 1 columns]"
            ]
          },
          "metadata": {
            "tags": []
          },
          "execution_count": 82
        }
      ]
    },
    {
      "cell_type": "code",
      "metadata": {
        "id": "BK5mQ3duztLL",
        "colab_type": "code",
        "colab": {
          "base_uri": "https://localhost:8080/",
          "height": 431
        },
        "outputId": "c2aca126-b6a9-4ef2-a1ae-7bce8f11858b"
      },
      "source": [
        "df_use = df_mean.join(df_common_disc)\n",
        "df_use"
      ],
      "execution_count": 83,
      "outputs": [
        {
          "output_type": "execute_result",
          "data": {
            "text/html": [
              "<div>\n",
              "<style scoped>\n",
              "    .dataframe tbody tr th:only-of-type {\n",
              "        vertical-align: middle;\n",
              "    }\n",
              "\n",
              "    .dataframe tbody tr th {\n",
              "        vertical-align: top;\n",
              "    }\n",
              "\n",
              "    .dataframe thead th {\n",
              "        text-align: right;\n",
              "    }\n",
              "</style>\n",
              "<table border=\"1\" class=\"dataframe\">\n",
              "  <thead>\n",
              "    <tr style=\"text-align: right;\">\n",
              "      <th></th>\n",
              "      <th>mark</th>\n",
              "      <th>discipline</th>\n",
              "    </tr>\n",
              "    <tr>\n",
              "      <th>tutorname</th>\n",
              "      <th></th>\n",
              "      <th></th>\n",
              "    </tr>\n",
              "  </thead>\n",
              "  <tbody>\n",
              "    <tr>\n",
              "      <th>3ыбина Анна Сергеевна</th>\n",
              "      <td>10.0</td>\n",
              "      <td>рисование</td>\n",
              "    </tr>\n",
              "    <tr>\n",
              "      <th>Aaron Hanisch</th>\n",
              "      <td>9.0</td>\n",
              "      <td>английский язык</td>\n",
              "    </tr>\n",
              "    <tr>\n",
              "      <th>Aaron James Dodd</th>\n",
              "      <td>9.0</td>\n",
              "      <td>английский язык</td>\n",
              "    </tr>\n",
              "    <tr>\n",
              "      <th>Aaron Michael Burhoe</th>\n",
              "      <td>8.0</td>\n",
              "      <td>английский язык</td>\n",
              "    </tr>\n",
              "    <tr>\n",
              "      <th>Abala David Ogero</th>\n",
              "      <td>9.0</td>\n",
              "      <td>английский язык</td>\n",
              "    </tr>\n",
              "    <tr>\n",
              "      <th>...</th>\n",
              "      <td>...</td>\n",
              "      <td>...</td>\n",
              "    </tr>\n",
              "    <tr>\n",
              "      <th>Ященко Анастасия Олеговна</th>\n",
              "      <td>9.0</td>\n",
              "      <td>английский язык</td>\n",
              "    </tr>\n",
              "    <tr>\n",
              "      <th>Ященко Николай Владиславович</th>\n",
              "      <td>10.0</td>\n",
              "      <td>химия</td>\n",
              "    </tr>\n",
              "    <tr>\n",
              "      <th>Ященко Юлия Владимировна</th>\n",
              "      <td>9.0</td>\n",
              "      <td>история</td>\n",
              "    </tr>\n",
              "    <tr>\n",
              "      <th>Ященкова Инна Александровна</th>\n",
              "      <td>10.0</td>\n",
              "      <td>музыка</td>\n",
              "    </tr>\n",
              "    <tr>\n",
              "      <th>Ящук Дарья Михайловна</th>\n",
              "      <td>9.0</td>\n",
              "      <td>фортепиано</td>\n",
              "    </tr>\n",
              "  </tbody>\n",
              "</table>\n",
              "<p>40408 rows × 2 columns</p>\n",
              "</div>"
            ],
            "text/plain": [
              "                              mark       discipline\n",
              "tutorname                                          \n",
              "3ыбина Анна Сергеевна         10.0        рисование\n",
              "Aaron Hanisch                  9.0  английский язык\n",
              "Aaron James Dodd               9.0  английский язык\n",
              "Aaron Michael Burhoe           8.0  английский язык\n",
              "Abala David Ogero              9.0  английский язык\n",
              "...                            ...              ...\n",
              "Ященко Анастасия Олеговна      9.0  английский язык\n",
              "Ященко Николай Владиславович  10.0            химия\n",
              "Ященко Юлия Владимировна       9.0          история\n",
              "Ященкова Инна Александровна   10.0           музыка\n",
              "Ящук Дарья Михайловна          9.0       фортепиано\n",
              "\n",
              "[40408 rows x 2 columns]"
            ]
          },
          "metadata": {
            "tags": []
          },
          "execution_count": 83
        }
      ]
    },
    {
      "cell_type": "code",
      "metadata": {
        "id": "LJBg7Sh32lcL",
        "colab_type": "code",
        "colab": {
          "base_uri": "https://localhost:8080/",
          "height": 402
        },
        "outputId": "fef29836-a8d0-486f-c297-9036799fdfd8"
      },
      "source": [
        "df_use = df_use.reset_index()\n",
        "df_use"
      ],
      "execution_count": 84,
      "outputs": [
        {
          "output_type": "execute_result",
          "data": {
            "text/html": [
              "<div>\n",
              "<style scoped>\n",
              "    .dataframe tbody tr th:only-of-type {\n",
              "        vertical-align: middle;\n",
              "    }\n",
              "\n",
              "    .dataframe tbody tr th {\n",
              "        vertical-align: top;\n",
              "    }\n",
              "\n",
              "    .dataframe thead th {\n",
              "        text-align: right;\n",
              "    }\n",
              "</style>\n",
              "<table border=\"1\" class=\"dataframe\">\n",
              "  <thead>\n",
              "    <tr style=\"text-align: right;\">\n",
              "      <th></th>\n",
              "      <th>tutorname</th>\n",
              "      <th>mark</th>\n",
              "      <th>discipline</th>\n",
              "    </tr>\n",
              "  </thead>\n",
              "  <tbody>\n",
              "    <tr>\n",
              "      <th>0</th>\n",
              "      <td>3ыбина Анна Сергеевна</td>\n",
              "      <td>10.0</td>\n",
              "      <td>рисование</td>\n",
              "    </tr>\n",
              "    <tr>\n",
              "      <th>1</th>\n",
              "      <td>Aaron Hanisch</td>\n",
              "      <td>9.0</td>\n",
              "      <td>английский язык</td>\n",
              "    </tr>\n",
              "    <tr>\n",
              "      <th>2</th>\n",
              "      <td>Aaron James Dodd</td>\n",
              "      <td>9.0</td>\n",
              "      <td>английский язык</td>\n",
              "    </tr>\n",
              "    <tr>\n",
              "      <th>3</th>\n",
              "      <td>Aaron Michael Burhoe</td>\n",
              "      <td>8.0</td>\n",
              "      <td>английский язык</td>\n",
              "    </tr>\n",
              "    <tr>\n",
              "      <th>4</th>\n",
              "      <td>Abala David Ogero</td>\n",
              "      <td>9.0</td>\n",
              "      <td>английский язык</td>\n",
              "    </tr>\n",
              "    <tr>\n",
              "      <th>...</th>\n",
              "      <td>...</td>\n",
              "      <td>...</td>\n",
              "      <td>...</td>\n",
              "    </tr>\n",
              "    <tr>\n",
              "      <th>40403</th>\n",
              "      <td>Ященко Анастасия Олеговна</td>\n",
              "      <td>9.0</td>\n",
              "      <td>английский язык</td>\n",
              "    </tr>\n",
              "    <tr>\n",
              "      <th>40404</th>\n",
              "      <td>Ященко Николай Владиславович</td>\n",
              "      <td>10.0</td>\n",
              "      <td>химия</td>\n",
              "    </tr>\n",
              "    <tr>\n",
              "      <th>40405</th>\n",
              "      <td>Ященко Юлия Владимировна</td>\n",
              "      <td>9.0</td>\n",
              "      <td>история</td>\n",
              "    </tr>\n",
              "    <tr>\n",
              "      <th>40406</th>\n",
              "      <td>Ященкова Инна Александровна</td>\n",
              "      <td>10.0</td>\n",
              "      <td>музыка</td>\n",
              "    </tr>\n",
              "    <tr>\n",
              "      <th>40407</th>\n",
              "      <td>Ящук Дарья Михайловна</td>\n",
              "      <td>9.0</td>\n",
              "      <td>фортепиано</td>\n",
              "    </tr>\n",
              "  </tbody>\n",
              "</table>\n",
              "<p>40408 rows × 3 columns</p>\n",
              "</div>"
            ],
            "text/plain": [
              "                          tutorname  mark       discipline\n",
              "0             3ыбина Анна Сергеевна  10.0        рисование\n",
              "1                     Aaron Hanisch   9.0  английский язык\n",
              "2                  Aaron James Dodd   9.0  английский язык\n",
              "3              Aaron Michael Burhoe   8.0  английский язык\n",
              "4                 Abala David Ogero   9.0  английский язык\n",
              "...                             ...   ...              ...\n",
              "40403     Ященко Анастасия Олеговна   9.0  английский язык\n",
              "40404  Ященко Николай Владиславович  10.0            химия\n",
              "40405      Ященко Юлия Владимировна   9.0          история\n",
              "40406   Ященкова Инна Александровна  10.0           музыка\n",
              "40407         Ящук Дарья Михайловна   9.0       фортепиано\n",
              "\n",
              "[40408 rows x 3 columns]"
            ]
          },
          "metadata": {
            "tags": []
          },
          "execution_count": 84
        }
      ]
    },
    {
      "cell_type": "markdown",
      "metadata": {
        "id": "8MHOCEtQ2WIW",
        "colab_type": "text"
      },
      "source": [
        "Итак это мы и будем использовать. Описательные характеристики:"
      ]
    },
    {
      "cell_type": "code",
      "metadata": {
        "id": "fmNYQqBz2w1M",
        "colab_type": "code",
        "colab": {
          "base_uri": "https://localhost:8080/",
          "height": 284
        },
        "outputId": "6a11ced4-fd01-4914-9880-8a806b4d2321"
      },
      "source": [
        "df_use.describe()"
      ],
      "execution_count": 85,
      "outputs": [
        {
          "output_type": "execute_result",
          "data": {
            "text/html": [
              "<div>\n",
              "<style scoped>\n",
              "    .dataframe tbody tr th:only-of-type {\n",
              "        vertical-align: middle;\n",
              "    }\n",
              "\n",
              "    .dataframe tbody tr th {\n",
              "        vertical-align: top;\n",
              "    }\n",
              "\n",
              "    .dataframe thead th {\n",
              "        text-align: right;\n",
              "    }\n",
              "</style>\n",
              "<table border=\"1\" class=\"dataframe\">\n",
              "  <thead>\n",
              "    <tr style=\"text-align: right;\">\n",
              "      <th></th>\n",
              "      <th>mark</th>\n",
              "    </tr>\n",
              "  </thead>\n",
              "  <tbody>\n",
              "    <tr>\n",
              "      <th>count</th>\n",
              "      <td>40408.000000</td>\n",
              "    </tr>\n",
              "    <tr>\n",
              "      <th>mean</th>\n",
              "      <td>8.889423</td>\n",
              "    </tr>\n",
              "    <tr>\n",
              "      <th>std</th>\n",
              "      <td>1.573467</td>\n",
              "    </tr>\n",
              "    <tr>\n",
              "      <th>min</th>\n",
              "      <td>1.000000</td>\n",
              "    </tr>\n",
              "    <tr>\n",
              "      <th>25%</th>\n",
              "      <td>9.000000</td>\n",
              "    </tr>\n",
              "    <tr>\n",
              "      <th>50%</th>\n",
              "      <td>9.200000</td>\n",
              "    </tr>\n",
              "    <tr>\n",
              "      <th>75%</th>\n",
              "      <td>10.000000</td>\n",
              "    </tr>\n",
              "    <tr>\n",
              "      <th>max</th>\n",
              "      <td>10.000000</td>\n",
              "    </tr>\n",
              "  </tbody>\n",
              "</table>\n",
              "</div>"
            ],
            "text/plain": [
              "               mark\n",
              "count  40408.000000\n",
              "mean       8.889423\n",
              "std        1.573467\n",
              "min        1.000000\n",
              "25%        9.000000\n",
              "50%        9.200000\n",
              "75%       10.000000\n",
              "max       10.000000"
            ]
          },
          "metadata": {
            "tags": []
          },
          "execution_count": 85
        }
      ]
    },
    {
      "cell_type": "markdown",
      "metadata": {
        "id": "3A8CYQi_3Lix",
        "colab_type": "text"
      },
      "source": [
        "Настало время кластеризовать, используя PAM. Также введем функцию для подсчета расстояния."
      ]
    },
    {
      "cell_type": "code",
      "metadata": {
        "id": "7Voi1ZuU3LCz",
        "colab_type": "code",
        "colab": {}
      },
      "source": [
        "def my_tutor_distance(X, Y):\n",
        "  result = 0\n",
        "  if X['discipline'] != Y['discipline']:\n",
        "    result += 3\n",
        "  result += abs(X['mark'] - Y['mark'])\n",
        "  return result"
      ],
      "execution_count": 86,
      "outputs": []
    },
    {
      "cell_type": "markdown",
      "metadata": {
        "id": "cSGNb25p5Fub",
        "colab_type": "text"
      },
      "source": [
        "В целях экономии времени и памяти (ее, скорее всего, не хватит для всех) просемплируем данные."
      ]
    },
    {
      "cell_type": "code",
      "metadata": {
        "id": "HPtb82Mc5X7_",
        "colab_type": "code",
        "colab": {
          "base_uri": "https://localhost:8080/",
          "height": 402
        },
        "outputId": "608c458d-c0bb-449c-da7c-ce08f1ba0c0a"
      },
      "source": [
        "df_sample = df_use.sample(frac=(1.0/80))\n",
        "df_sample = df_sample.reset_index()\n",
        "df_sample"
      ],
      "execution_count": 98,
      "outputs": [
        {
          "output_type": "execute_result",
          "data": {
            "text/html": [
              "<div>\n",
              "<style scoped>\n",
              "    .dataframe tbody tr th:only-of-type {\n",
              "        vertical-align: middle;\n",
              "    }\n",
              "\n",
              "    .dataframe tbody tr th {\n",
              "        vertical-align: top;\n",
              "    }\n",
              "\n",
              "    .dataframe thead th {\n",
              "        text-align: right;\n",
              "    }\n",
              "</style>\n",
              "<table border=\"1\" class=\"dataframe\">\n",
              "  <thead>\n",
              "    <tr style=\"text-align: right;\">\n",
              "      <th></th>\n",
              "      <th>index</th>\n",
              "      <th>tutorname</th>\n",
              "      <th>mark</th>\n",
              "      <th>discipline</th>\n",
              "    </tr>\n",
              "  </thead>\n",
              "  <tbody>\n",
              "    <tr>\n",
              "      <th>0</th>\n",
              "      <td>29897</td>\n",
              "      <td>Рязанский Валерий Павлович</td>\n",
              "      <td>9.000000</td>\n",
              "      <td>математика</td>\n",
              "    </tr>\n",
              "    <tr>\n",
              "      <th>1</th>\n",
              "      <td>25149</td>\n",
              "      <td>Новичкова Светлана Геннадьевна</td>\n",
              "      <td>9.444444</td>\n",
              "      <td>биология</td>\n",
              "    </tr>\n",
              "    <tr>\n",
              "      <th>2</th>\n",
              "      <td>5386</td>\n",
              "      <td>Будник Полина Петровна</td>\n",
              "      <td>5.666667</td>\n",
              "      <td>сольфеджио</td>\n",
              "    </tr>\n",
              "    <tr>\n",
              "      <th>3</th>\n",
              "      <td>36683</td>\n",
              "      <td>Хващинский Дмитрий Альбертович</td>\n",
              "      <td>1.000000</td>\n",
              "      <td>биология</td>\n",
              "    </tr>\n",
              "    <tr>\n",
              "      <th>4</th>\n",
              "      <td>32443</td>\n",
              "      <td>Соловьев Иван Николаевич</td>\n",
              "      <td>9.000000</td>\n",
              "      <td>математика</td>\n",
              "    </tr>\n",
              "    <tr>\n",
              "      <th>...</th>\n",
              "      <td>...</td>\n",
              "      <td>...</td>\n",
              "      <td>...</td>\n",
              "      <td>...</td>\n",
              "    </tr>\n",
              "    <tr>\n",
              "      <th>500</th>\n",
              "      <td>21572</td>\n",
              "      <td>Малый Сергей Николаевич</td>\n",
              "      <td>6.800000</td>\n",
              "      <td>математика</td>\n",
              "    </tr>\n",
              "    <tr>\n",
              "      <th>501</th>\n",
              "      <td>27273</td>\n",
              "      <td>Плотников Александр Сергеевич</td>\n",
              "      <td>9.000000</td>\n",
              "      <td>электротехника</td>\n",
              "    </tr>\n",
              "    <tr>\n",
              "      <th>502</th>\n",
              "      <td>17015</td>\n",
              "      <td>Конончик Ирина Олеговна</td>\n",
              "      <td>9.000000</td>\n",
              "      <td>английский язык</td>\n",
              "    </tr>\n",
              "    <tr>\n",
              "      <th>503</th>\n",
              "      <td>15193</td>\n",
              "      <td>Карташева Белла Анатольевна</td>\n",
              "      <td>10.000000</td>\n",
              "      <td>фортепиано</td>\n",
              "    </tr>\n",
              "    <tr>\n",
              "      <th>504</th>\n",
              "      <td>16140</td>\n",
              "      <td>Ковалева Екатерина Витальевна</td>\n",
              "      <td>10.000000</td>\n",
              "      <td>начальная школа</td>\n",
              "    </tr>\n",
              "  </tbody>\n",
              "</table>\n",
              "<p>505 rows × 4 columns</p>\n",
              "</div>"
            ],
            "text/plain": [
              "     index                       tutorname       mark       discipline\n",
              "0    29897      Рязанский Валерий Павлович   9.000000       математика\n",
              "1    25149  Новичкова Светлана Геннадьевна   9.444444         биология\n",
              "2     5386          Будник Полина Петровна   5.666667       сольфеджио\n",
              "3    36683  Хващинский Дмитрий Альбертович   1.000000         биология\n",
              "4    32443        Соловьев Иван Николаевич   9.000000       математика\n",
              "..     ...                             ...        ...              ...\n",
              "500  21572         Малый Сергей Николаевич   6.800000       математика\n",
              "501  27273   Плотников Александр Сергеевич   9.000000   электротехника\n",
              "502  17015         Конончик Ирина Олеговна   9.000000  английский язык\n",
              "503  15193     Карташева Белла Анатольевна  10.000000       фортепиано\n",
              "504  16140   Ковалева Екатерина Витальевна  10.000000  начальная школа\n",
              "\n",
              "[505 rows x 4 columns]"
            ]
          },
          "metadata": {
            "tags": []
          },
          "execution_count": 98
        }
      ]
    },
    {
      "cell_type": "code",
      "metadata": {
        "id": "clMXC-9sBX7Y",
        "colab_type": "code",
        "colab": {}
      },
      "source": [
        "df_str = df_sample['discipline'].apply(str)\n",
        "df_sample['discipline'] = df_str\n",
        "df_sample = df_sample.drop(columns=['index'])"
      ],
      "execution_count": 102,
      "outputs": []
    },
    {
      "cell_type": "code",
      "metadata": {
        "id": "aOyQGka7Mnof",
        "colab_type": "code",
        "colab": {
          "base_uri": "https://localhost:8080/",
          "height": 402
        },
        "outputId": "0abad6fa-8bf0-4339-d52f-bcc600cc94b5"
      },
      "source": [
        "df_sample"
      ],
      "execution_count": 103,
      "outputs": [
        {
          "output_type": "execute_result",
          "data": {
            "text/html": [
              "<div>\n",
              "<style scoped>\n",
              "    .dataframe tbody tr th:only-of-type {\n",
              "        vertical-align: middle;\n",
              "    }\n",
              "\n",
              "    .dataframe tbody tr th {\n",
              "        vertical-align: top;\n",
              "    }\n",
              "\n",
              "    .dataframe thead th {\n",
              "        text-align: right;\n",
              "    }\n",
              "</style>\n",
              "<table border=\"1\" class=\"dataframe\">\n",
              "  <thead>\n",
              "    <tr style=\"text-align: right;\">\n",
              "      <th></th>\n",
              "      <th>tutorname</th>\n",
              "      <th>mark</th>\n",
              "      <th>discipline</th>\n",
              "    </tr>\n",
              "  </thead>\n",
              "  <tbody>\n",
              "    <tr>\n",
              "      <th>0</th>\n",
              "      <td>Рязанский Валерий Павлович</td>\n",
              "      <td>9.000000</td>\n",
              "      <td>математика</td>\n",
              "    </tr>\n",
              "    <tr>\n",
              "      <th>1</th>\n",
              "      <td>Новичкова Светлана Геннадьевна</td>\n",
              "      <td>9.444444</td>\n",
              "      <td>биология</td>\n",
              "    </tr>\n",
              "    <tr>\n",
              "      <th>2</th>\n",
              "      <td>Будник Полина Петровна</td>\n",
              "      <td>5.666667</td>\n",
              "      <td>сольфеджио</td>\n",
              "    </tr>\n",
              "    <tr>\n",
              "      <th>3</th>\n",
              "      <td>Хващинский Дмитрий Альбертович</td>\n",
              "      <td>1.000000</td>\n",
              "      <td>биология</td>\n",
              "    </tr>\n",
              "    <tr>\n",
              "      <th>4</th>\n",
              "      <td>Соловьев Иван Николаевич</td>\n",
              "      <td>9.000000</td>\n",
              "      <td>математика</td>\n",
              "    </tr>\n",
              "    <tr>\n",
              "      <th>...</th>\n",
              "      <td>...</td>\n",
              "      <td>...</td>\n",
              "      <td>...</td>\n",
              "    </tr>\n",
              "    <tr>\n",
              "      <th>500</th>\n",
              "      <td>Малый Сергей Николаевич</td>\n",
              "      <td>6.800000</td>\n",
              "      <td>математика</td>\n",
              "    </tr>\n",
              "    <tr>\n",
              "      <th>501</th>\n",
              "      <td>Плотников Александр Сергеевич</td>\n",
              "      <td>9.000000</td>\n",
              "      <td>электротехника</td>\n",
              "    </tr>\n",
              "    <tr>\n",
              "      <th>502</th>\n",
              "      <td>Конончик Ирина Олеговна</td>\n",
              "      <td>9.000000</td>\n",
              "      <td>английский язык</td>\n",
              "    </tr>\n",
              "    <tr>\n",
              "      <th>503</th>\n",
              "      <td>Карташева Белла Анатольевна</td>\n",
              "      <td>10.000000</td>\n",
              "      <td>фортепиано</td>\n",
              "    </tr>\n",
              "    <tr>\n",
              "      <th>504</th>\n",
              "      <td>Ковалева Екатерина Витальевна</td>\n",
              "      <td>10.000000</td>\n",
              "      <td>начальная школа</td>\n",
              "    </tr>\n",
              "  </tbody>\n",
              "</table>\n",
              "<p>505 rows × 3 columns</p>\n",
              "</div>"
            ],
            "text/plain": [
              "                          tutorname       mark       discipline\n",
              "0        Рязанский Валерий Павлович   9.000000       математика\n",
              "1    Новичкова Светлана Геннадьевна   9.444444         биология\n",
              "2            Будник Полина Петровна   5.666667       сольфеджио\n",
              "3    Хващинский Дмитрий Альбертович   1.000000         биология\n",
              "4          Соловьев Иван Николаевич   9.000000       математика\n",
              "..                              ...        ...              ...\n",
              "500         Малый Сергей Николаевич   6.800000       математика\n",
              "501   Плотников Александр Сергеевич   9.000000   электротехника\n",
              "502         Конончик Ирина Олеговна   9.000000  английский язык\n",
              "503     Карташева Белла Анатольевна  10.000000       фортепиано\n",
              "504   Ковалева Екатерина Витальевна  10.000000  начальная школа\n",
              "\n",
              "[505 rows x 3 columns]"
            ]
          },
          "metadata": {
            "tags": []
          },
          "execution_count": 103
        }
      ]
    },
    {
      "cell_type": "code",
      "metadata": {
        "id": "YPEfi_W9No1M",
        "colab_type": "code",
        "colab": {
          "base_uri": "https://localhost:8080/",
          "height": 284
        },
        "outputId": "48d45c9a-a4ef-46b8-acdf-b50c3bb0b7ff"
      },
      "source": [
        "df_sample.describe()"
      ],
      "execution_count": 104,
      "outputs": [
        {
          "output_type": "execute_result",
          "data": {
            "text/html": [
              "<div>\n",
              "<style scoped>\n",
              "    .dataframe tbody tr th:only-of-type {\n",
              "        vertical-align: middle;\n",
              "    }\n",
              "\n",
              "    .dataframe tbody tr th {\n",
              "        vertical-align: top;\n",
              "    }\n",
              "\n",
              "    .dataframe thead th {\n",
              "        text-align: right;\n",
              "    }\n",
              "</style>\n",
              "<table border=\"1\" class=\"dataframe\">\n",
              "  <thead>\n",
              "    <tr style=\"text-align: right;\">\n",
              "      <th></th>\n",
              "      <th>mark</th>\n",
              "    </tr>\n",
              "  </thead>\n",
              "  <tbody>\n",
              "    <tr>\n",
              "      <th>count</th>\n",
              "      <td>505.000000</td>\n",
              "    </tr>\n",
              "    <tr>\n",
              "      <th>mean</th>\n",
              "      <td>8.991547</td>\n",
              "    </tr>\n",
              "    <tr>\n",
              "      <th>std</th>\n",
              "      <td>1.413870</td>\n",
              "    </tr>\n",
              "    <tr>\n",
              "      <th>min</th>\n",
              "      <td>1.000000</td>\n",
              "    </tr>\n",
              "    <tr>\n",
              "      <th>25%</th>\n",
              "      <td>9.000000</td>\n",
              "    </tr>\n",
              "    <tr>\n",
              "      <th>50%</th>\n",
              "      <td>9.307692</td>\n",
              "    </tr>\n",
              "    <tr>\n",
              "      <th>75%</th>\n",
              "      <td>10.000000</td>\n",
              "    </tr>\n",
              "    <tr>\n",
              "      <th>max</th>\n",
              "      <td>10.000000</td>\n",
              "    </tr>\n",
              "  </tbody>\n",
              "</table>\n",
              "</div>"
            ],
            "text/plain": [
              "             mark\n",
              "count  505.000000\n",
              "mean     8.991547\n",
              "std      1.413870\n",
              "min      1.000000\n",
              "25%      9.000000\n",
              "50%      9.307692\n",
              "75%     10.000000\n",
              "max     10.000000"
            ]
          },
          "metadata": {
            "tags": []
          },
          "execution_count": 104
        }
      ]
    },
    {
      "cell_type": "code",
      "metadata": {
        "id": "aMxgjG2L4Ed2",
        "colab_type": "code",
        "colab": {}
      },
      "source": [
        "med, clusters, TD = PAM(df_sample, k=12, dist=my_tutor_distance, maxIter=2000)"
      ],
      "execution_count": 105,
      "outputs": []
    },
    {
      "cell_type": "code",
      "metadata": {
        "id": "0m4-kat0DyIY",
        "colab_type": "code",
        "colab": {
          "base_uri": "https://localhost:8080/",
          "height": 235
        },
        "outputId": "093689aa-9ec1-4edd-944b-71e30af21414"
      },
      "source": [
        "# количество в разных кластерах\n",
        "df_sample['cluster'] = clusters\n",
        "df_sample['cluster'].value_counts()"
      ],
      "execution_count": 106,
      "outputs": [
        {
          "output_type": "execute_result",
          "data": {
            "text/plain": [
              "30     113\n",
              "0       97\n",
              "13      76\n",
              "40      39\n",
              "232     36\n",
              "474     27\n",
              "125     25\n",
              "316     24\n",
              "184     22\n",
              "33      19\n",
              "165     14\n",
              "238     13\n",
              "Name: cluster, dtype: int64"
            ]
          },
          "metadata": {
            "tags": []
          },
          "execution_count": 106
        }
      ]
    },
    {
      "cell_type": "code",
      "metadata": {
        "id": "POVQdj2iEBfM",
        "colab_type": "code",
        "colab": {
          "base_uri": "https://localhost:8080/",
          "height": 402
        },
        "outputId": "be31c0d3-bd81-4a8a-bcbe-8c9e76b4cd2c"
      },
      "source": [
        "df_sample"
      ],
      "execution_count": 107,
      "outputs": [
        {
          "output_type": "execute_result",
          "data": {
            "text/html": [
              "<div>\n",
              "<style scoped>\n",
              "    .dataframe tbody tr th:only-of-type {\n",
              "        vertical-align: middle;\n",
              "    }\n",
              "\n",
              "    .dataframe tbody tr th {\n",
              "        vertical-align: top;\n",
              "    }\n",
              "\n",
              "    .dataframe thead th {\n",
              "        text-align: right;\n",
              "    }\n",
              "</style>\n",
              "<table border=\"1\" class=\"dataframe\">\n",
              "  <thead>\n",
              "    <tr style=\"text-align: right;\">\n",
              "      <th></th>\n",
              "      <th>tutorname</th>\n",
              "      <th>mark</th>\n",
              "      <th>discipline</th>\n",
              "      <th>cluster</th>\n",
              "    </tr>\n",
              "  </thead>\n",
              "  <tbody>\n",
              "    <tr>\n",
              "      <th>0</th>\n",
              "      <td>Рязанский Валерий Павлович</td>\n",
              "      <td>9.000000</td>\n",
              "      <td>математика</td>\n",
              "      <td>0</td>\n",
              "    </tr>\n",
              "    <tr>\n",
              "      <th>1</th>\n",
              "      <td>Новичкова Светлана Геннадьевна</td>\n",
              "      <td>9.444444</td>\n",
              "      <td>биология</td>\n",
              "      <td>316</td>\n",
              "    </tr>\n",
              "    <tr>\n",
              "      <th>2</th>\n",
              "      <td>Будник Полина Петровна</td>\n",
              "      <td>5.666667</td>\n",
              "      <td>сольфеджио</td>\n",
              "      <td>125</td>\n",
              "    </tr>\n",
              "    <tr>\n",
              "      <th>3</th>\n",
              "      <td>Хващинский Дмитрий Альбертович</td>\n",
              "      <td>1.000000</td>\n",
              "      <td>биология</td>\n",
              "      <td>238</td>\n",
              "    </tr>\n",
              "    <tr>\n",
              "      <th>4</th>\n",
              "      <td>Соловьев Иван Николаевич</td>\n",
              "      <td>9.000000</td>\n",
              "      <td>математика</td>\n",
              "      <td>0</td>\n",
              "    </tr>\n",
              "    <tr>\n",
              "      <th>...</th>\n",
              "      <td>...</td>\n",
              "      <td>...</td>\n",
              "      <td>...</td>\n",
              "      <td>...</td>\n",
              "    </tr>\n",
              "    <tr>\n",
              "      <th>500</th>\n",
              "      <td>Малый Сергей Николаевич</td>\n",
              "      <td>6.800000</td>\n",
              "      <td>математика</td>\n",
              "      <td>125</td>\n",
              "    </tr>\n",
              "    <tr>\n",
              "      <th>501</th>\n",
              "      <td>Плотников Александр Сергеевич</td>\n",
              "      <td>9.000000</td>\n",
              "      <td>электротехника</td>\n",
              "      <td>0</td>\n",
              "    </tr>\n",
              "    <tr>\n",
              "      <th>502</th>\n",
              "      <td>Конончик Ирина Олеговна</td>\n",
              "      <td>9.000000</td>\n",
              "      <td>английский язык</td>\n",
              "      <td>30</td>\n",
              "    </tr>\n",
              "    <tr>\n",
              "      <th>503</th>\n",
              "      <td>Карташева Белла Анатольевна</td>\n",
              "      <td>10.000000</td>\n",
              "      <td>фортепиано</td>\n",
              "      <td>13</td>\n",
              "    </tr>\n",
              "    <tr>\n",
              "      <th>504</th>\n",
              "      <td>Ковалева Екатерина Витальевна</td>\n",
              "      <td>10.000000</td>\n",
              "      <td>начальная школа</td>\n",
              "      <td>33</td>\n",
              "    </tr>\n",
              "  </tbody>\n",
              "</table>\n",
              "<p>505 rows × 4 columns</p>\n",
              "</div>"
            ],
            "text/plain": [
              "                          tutorname       mark       discipline  cluster\n",
              "0        Рязанский Валерий Павлович   9.000000       математика        0\n",
              "1    Новичкова Светлана Геннадьевна   9.444444         биология      316\n",
              "2            Будник Полина Петровна   5.666667       сольфеджио      125\n",
              "3    Хващинский Дмитрий Альбертович   1.000000         биология      238\n",
              "4          Соловьев Иван Николаевич   9.000000       математика        0\n",
              "..                              ...        ...              ...      ...\n",
              "500         Малый Сергей Николаевич   6.800000       математика      125\n",
              "501   Плотников Александр Сергеевич   9.000000   электротехника        0\n",
              "502         Конончик Ирина Олеговна   9.000000  английский язык       30\n",
              "503     Карташева Белла Анатольевна  10.000000       фортепиано       13\n",
              "504   Ковалева Екатерина Витальевна  10.000000  начальная школа       33\n",
              "\n",
              "[505 rows x 4 columns]"
            ]
          },
          "metadata": {
            "tags": []
          },
          "execution_count": 107
        }
      ]
    },
    {
      "cell_type": "markdown",
      "metadata": {
        "id": "zlN62m8EEcpZ",
        "colab_type": "text"
      },
      "source": [
        "Это и есть результат кластеризации (напомним, что номер кластера - это индекс его представителя). При желании анализ можно продолжить в желаемом направлении. Вот, например, центры кластеров."
      ]
    },
    {
      "cell_type": "code",
      "metadata": {
        "id": "8l-pBxORFHIq",
        "colab_type": "code",
        "colab": {
          "base_uri": "https://localhost:8080/",
          "height": 402
        },
        "outputId": "1907cbdb-1d9b-4687-d647-6869e6babba9"
      },
      "source": [
        "df_sample.iloc[med].sort_values(by=['mark'])"
      ],
      "execution_count": 108,
      "outputs": [
        {
          "output_type": "execute_result",
          "data": {
            "text/html": [
              "<div>\n",
              "<style scoped>\n",
              "    .dataframe tbody tr th:only-of-type {\n",
              "        vertical-align: middle;\n",
              "    }\n",
              "\n",
              "    .dataframe tbody tr th {\n",
              "        vertical-align: top;\n",
              "    }\n",
              "\n",
              "    .dataframe thead th {\n",
              "        text-align: right;\n",
              "    }\n",
              "</style>\n",
              "<table border=\"1\" class=\"dataframe\">\n",
              "  <thead>\n",
              "    <tr style=\"text-align: right;\">\n",
              "      <th></th>\n",
              "      <th>tutorname</th>\n",
              "      <th>mark</th>\n",
              "      <th>discipline</th>\n",
              "      <th>cluster</th>\n",
              "    </tr>\n",
              "  </thead>\n",
              "  <tbody>\n",
              "    <tr>\n",
              "      <th>238</th>\n",
              "      <td>Финаев Вячеслав Вячеславович</td>\n",
              "      <td>3.000000</td>\n",
              "      <td>английский язык</td>\n",
              "      <td>238</td>\n",
              "    </tr>\n",
              "    <tr>\n",
              "      <th>125</th>\n",
              "      <td>Якубенко Наталья Валерьевна</td>\n",
              "      <td>7.000000</td>\n",
              "      <td>математика</td>\n",
              "      <td>125</td>\n",
              "    </tr>\n",
              "    <tr>\n",
              "      <th>316</th>\n",
              "      <td>Яшкина Анастасия Романовна</td>\n",
              "      <td>8.000000</td>\n",
              "      <td>биология</td>\n",
              "      <td>316</td>\n",
              "    </tr>\n",
              "    <tr>\n",
              "      <th>0</th>\n",
              "      <td>Рязанский Валерий Павлович</td>\n",
              "      <td>9.000000</td>\n",
              "      <td>математика</td>\n",
              "      <td>0</td>\n",
              "    </tr>\n",
              "    <tr>\n",
              "      <th>33</th>\n",
              "      <td>Литвинова Татьяна Валерьевна</td>\n",
              "      <td>9.000000</td>\n",
              "      <td>начальная школа</td>\n",
              "      <td>33</td>\n",
              "    </tr>\n",
              "    <tr>\n",
              "      <th>40</th>\n",
              "      <td>Шабалина Екатерина Сергеевна</td>\n",
              "      <td>9.000000</td>\n",
              "      <td>русский язык</td>\n",
              "      <td>40</td>\n",
              "    </tr>\n",
              "    <tr>\n",
              "      <th>474</th>\n",
              "      <td>Костин Анатолий Евгеньевич</td>\n",
              "      <td>9.250000</td>\n",
              "      <td>физика</td>\n",
              "      <td>474</td>\n",
              "    </tr>\n",
              "    <tr>\n",
              "      <th>165</th>\n",
              "      <td>Грипа Яна Николаевна</td>\n",
              "      <td>9.307692</td>\n",
              "      <td>логопеды</td>\n",
              "      <td>165</td>\n",
              "    </tr>\n",
              "    <tr>\n",
              "      <th>30</th>\n",
              "      <td>Зуева Татьяна Сергеевна</td>\n",
              "      <td>9.333333</td>\n",
              "      <td>английский язык</td>\n",
              "      <td>30</td>\n",
              "    </tr>\n",
              "    <tr>\n",
              "      <th>232</th>\n",
              "      <td>Хайрутдинов Руслан Илдусович</td>\n",
              "      <td>9.500000</td>\n",
              "      <td>химия</td>\n",
              "      <td>232</td>\n",
              "    </tr>\n",
              "    <tr>\n",
              "      <th>184</th>\n",
              "      <td>Малкова Ксения Дмитриевна</td>\n",
              "      <td>9.666667</td>\n",
              "      <td>французский язык</td>\n",
              "      <td>184</td>\n",
              "    </tr>\n",
              "    <tr>\n",
              "      <th>13</th>\n",
              "      <td>Давыдов Иван Леонидович</td>\n",
              "      <td>10.000000</td>\n",
              "      <td>математика</td>\n",
              "      <td>13</td>\n",
              "    </tr>\n",
              "  </tbody>\n",
              "</table>\n",
              "</div>"
            ],
            "text/plain": [
              "                        tutorname       mark        discipline  cluster\n",
              "238  Финаев Вячеслав Вячеславович   3.000000   английский язык      238\n",
              "125   Якубенко Наталья Валерьевна   7.000000        математика      125\n",
              "316    Яшкина Анастасия Романовна   8.000000          биология      316\n",
              "0      Рязанский Валерий Павлович   9.000000        математика        0\n",
              "33   Литвинова Татьяна Валерьевна   9.000000   начальная школа       33\n",
              "40   Шабалина Екатерина Сергеевна   9.000000      русский язык       40\n",
              "474    Костин Анатолий Евгеньевич   9.250000            физика      474\n",
              "165          Грипа Яна Николаевна   9.307692          логопеды      165\n",
              "30        Зуева Татьяна Сергеевна   9.333333   английский язык       30\n",
              "232  Хайрутдинов Руслан Илдусович   9.500000             химия      232\n",
              "184     Малкова Ксения Дмитриевна   9.666667  французский язык      184\n",
              "13        Давыдов Иван Леонидович  10.000000        математика       13"
            ]
          },
          "metadata": {
            "tags": []
          },
          "execution_count": 108
        }
      ]
    },
    {
      "cell_type": "markdown",
      "metadata": {
        "id": "Y-PXQpCCGdlo",
        "colab_type": "text"
      },
      "source": [
        "Можно сохранить результат"
      ]
    },
    {
      "cell_type": "code",
      "metadata": {
        "id": "pkGBQ_G6Gut-",
        "colab_type": "code",
        "colab": {}
      },
      "source": [
        "df_result.to_csv('./data/tutors_result.csv')"
      ],
      "execution_count": 109,
      "outputs": []
    }
  ]
}